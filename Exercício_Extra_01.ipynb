{
  "nbformat": 4,
  "nbformat_minor": 0,
  "metadata": {
    "colab": {
      "name": "Exercício Extra 01.ipynb",
      "provenance": []
    },
    "kernelspec": {
      "name": "python3",
      "display_name": "Python 3"
    },
    "language_info": {
      "name": "python"
    }
  },
  "cells": [
    {
      "cell_type": "markdown",
      "source": [
        "1. Faça um programa que pergunte quanto você ganha por hora e o número de horas trabalhadas no mês. Calcule e mostre o total do seu salário no referido mês, sabendo-se que são descontados 11% para o Imposto de Renda, 8% para o INSS e 5% para o sindicato, faça um programa que nos dê:\n",
        "\n",
        "- salário bruto.\n",
        "- quanto pagou ao INSS.\n",
        "- quanto pagou ao sindicato.\n",
        "- o salário líquido.\n",
        "\n",
        "Calcule os descontos e o salário líquido, conforme informação abaixo:\n",
        "Salário Bruto - IR (11%) - INSS (8%) - Sindicato ( 5%) = Salário Liquido"
      ],
      "metadata": {
        "id": "xd8c4dA2Sqzg"
      }
    },
    {
      "cell_type": "code",
      "execution_count": null,
      "metadata": {
        "colab": {
          "base_uri": "https://localhost:8080/"
        },
        "id": "3HyxG1jbSkaO",
        "outputId": "381d7a4c-dfda-486e-f254-200fd85db0b4"
      },
      "outputs": [
        {
          "output_type": "stream",
          "name": "stdout",
          "text": [
            "Entre com o valor do salário-hora: 50\n",
            "Entre com o numero de horas trabalhadas: 1000\n",
            "O salario bruto é de R$ 50000.00\n",
            "Desconto de:\n",
            "INSS .......... R$ 5500.00\n",
            "IR ............ R$ 4000.00\n",
            "Sindicato ..... R$ 2500.00\n",
            "Restando liquido o valor de R$ 38000.00\n"
          ]
        }
      ],
      "source": [
        "sal_hora = float(input(\"Entre com o valor do salário-hora: \"))\n",
        "num_horas = int(input(\"Entre com o numero de horas trabalhadas: \"))\n",
        "bruto = sal_hora * num_horas\n",
        "inss = bruto * 0.11\n",
        "ir = bruto * 0.08\n",
        "sindicato = bruto * 0.05\n",
        "liquido = bruto - inss - ir - sindicato\n",
        "print(f\"O salario bruto é de R$ {bruto:.2f}\")\n",
        "print(\"Desconto de:\")\n",
        "print(f\"INSS .......... R$ {inss:.2f}\")\n",
        "print(f\"IR ............ R$ {ir:.2f}\")\n",
        "print(f\"Sindicato ..... R$ {sindicato:.2f}\")\n",
        "print(f\"Restando liquido o valor de R$ {liquido:.2f}\")"
      ]
    },
    {
      "cell_type": "markdown",
      "source": [
        "2. Faça um programa que peça o tamanho de um arquivo para download (em MB) e a velocidade de um link de Internet (em Mbps), calcule e informe o tempo aproximado de download do arquivo usando este link (em minutos)"
      ],
      "metadata": {
        "id": "NJz8xtl9VSRn"
      }
    },
    {
      "cell_type": "code",
      "source": [
        "tamanho = float(input(\"Entre com o tamanho do arquivo em MB: \"))\n",
        "velocidade = float(input(\"Entre com a velocidade da internet em Mbps: \"))\n",
        "tamanho *= 8\n",
        "tempo = tamanho/velocidade\n",
        "tempo /= 60\n",
        "print(f\"São necesários {tempo:.2f} minutos para concluir o download\")"
      ],
      "metadata": {
        "id": "ViYJ-yA7VUfP",
        "colab": {
          "base_uri": "https://localhost:8080/"
        },
        "outputId": "454fb951-7d37-4862-b55e-9d6e420f0d62"
      },
      "execution_count": 5,
      "outputs": [
        {
          "output_type": "stream",
          "name": "stdout",
          "text": [
            "Entre com o tamanho do arquivo em MB: 1000\n",
            "Entre com a velocidade da internet em Mbps: 25\n",
            "São necesários 5.33 minutos para concluir o download\n"
          ]
        }
      ]
    },
    {
      "cell_type": "markdown",
      "source": [
        "3. João Papo-de-Pescador, homem de bem, comprou um microcomputador para controlar o rendimento diário de seu trabalho. Toda vez que ele traz um peso de peixes maior que o estabelecido pelo regulamento de pesca do estado de São Paulo (50 quilos) deve pagar uma multa de R$ 4,00 por quilo excedente. João precisa que você faça um programa que leia a variável peso (peso de peixes) e calcule o excesso. Gravar na variável excesso a quantidade de quilos além do limite e na variável multa o valor da multa que João deverá pagar. Imprima os dados do programa com as mensagens adequadas."
      ],
      "metadata": {
        "id": "HHtscrHdC2t6"
      }
    },
    {
      "cell_type": "code",
      "source": [
        "peso = float(input(\"Entre com o peso dos peixes pescados: \"))\n",
        "excesso, multa = 0, 0\n",
        "if (peso > 50):\n",
        "  excesso = peso - 50\n",
        "  multa = int(excesso) * 4\n",
        "  print(f\"Foi ultrapassado o limite em {excesso:.2f} quilo(s), com multa de R$ {multa:.2f}.\")\n",
        "else:\n",
        "  print(\"Não há peso excedente!\")"
      ],
      "metadata": {
        "colab": {
          "base_uri": "https://localhost:8080/"
        },
        "id": "O8OkDTePC6wN",
        "outputId": "afd0c770-d40c-4662-868b-0f923dd650c8"
      },
      "execution_count": 8,
      "outputs": [
        {
          "output_type": "stream",
          "name": "stdout",
          "text": [
            "Entre com o peso dos peixes pescados: 8\n",
            "Não há peso excedente!\n"
          ]
        }
      ]
    },
    {
      "cell_type": "markdown",
      "source": [
        "4. Faça um programa para uma loja de tintas. O programa deverá pedir o tamanho em metros quadrados da área a ser pintada. Considere que a cobertura da tinta é de 1 litro para cada 3 metros quadrados e que a tinta é vendida em latas de 18 litros, que custam R$ 80,00. Informe ao usuário a quantidades de latas de tinta a serem compradas e o preço total. Obs.: somente são vendidos um número inteiro de latas."
      ],
      "metadata": {
        "id": "cme7IaydOlRv"
      }
    },
    {
      "cell_type": "code",
      "source": [
        "import math\n",
        "area_pintada = float(input(\"Entre com a área a ser pintada: \"))\n",
        "latas = 18 * 3\n",
        "total_gasto = area_pintada / latas\n",
        "total_gasto = math.ceil(total_gasto)\n",
        "print(f\"São necessários {total_gasto} lata(s), com o custo de R$ {total_gasto * 80:.2f}\")"
      ],
      "metadata": {
        "colab": {
          "base_uri": "https://localhost:8080/"
        },
        "id": "u7wzmQlUOoMw",
        "outputId": "2acbba17-23e2-4f2d-eede-c33aeba22172"
      },
      "execution_count": 15,
      "outputs": [
        {
          "output_type": "stream",
          "name": "stdout",
          "text": [
            "Entre com a área a ser pintada: 85.2\n",
            "São necessários 2 lata(s), com o custo de R$ 160.00\n"
          ]
        }
      ]
    },
    {
      "cell_type": "markdown",
      "source": [
        ""
      ],
      "metadata": {
        "id": "2d6KcAgLTRx0"
      }
    },
    {
      "cell_type": "markdown",
      "source": [
        "5. Faça um Programa para uma loja de tintas. O programa deverá pedir o tamanho em metros quadrados da área a ser pintada. Considere que a cobertura da tinta é de 1 litro para cada 6 metros quadrados e que a tinta é vendida em latas de 18 litros, que custam R$ 80,00 ou  galoes de 3,6 litros, que custam 25 reais. Informe ao usuário as quantidades de tinta a serem compradas e os respectivos preços em 3 situações:\n",
        "\n",
        "- comprar apenas latas de 18 litros;\n",
        "- comprar apenas galões de 3,6 litros;\n",
        "- Misturar latas e galões, de forma que o desperdício de tinta seja menor. \n",
        "\n",
        "Acrescente 10% de folga e sempre arredonde os valores para cima, isto é, considere latas cheias."
      ],
      "metadata": {
        "id": "0c1jdbUFSAhV"
      }
    },
    {
      "cell_type": "code",
      "source": [
        "area_pintada = float(input(\"Entre com a área a ser pintada: \"))\n",
        "area_pintada *= 1.1\n",
        "latao = 18 * 6\n",
        "galao = 3.6 * 6\n",
        "num_latao = area_pintada / latao\n",
        "num_latao = math.ceil(num_latao)\n",
        "print(f\"Somente com latas, são necessária(s) {num_latao} latas, ao custo de R$ {num_latao * 80:.2f}\")\n",
        "num_galao = area_pintada / galao\n",
        "num_galao = math.ceil(num_galao)\n",
        "print(f\"Somente com galões, são necessário(s) {num_galao} galões, ao custo de R$ {num_galao * 25:.2f}\")\n",
        "desp = area_pintada - ((num_latao - 1) * latao)\n",
        "desp = desp / galao\n",
        "desp = math.ceil(desp)\n",
        "print(f\"Para menor desperdício de tinta, são necessários {desp} galão(oes) e {num_latao - 1} lata(s), ao custo de R$ {desp * 25 + (num_latao - 1) * 80:.2f}\")\n"
      ],
      "metadata": {
        "colab": {
          "base_uri": "https://localhost:8080/"
        },
        "id": "70uMh3lCSVMR",
        "outputId": "970ecc3e-c0a1-4921-a1d8-25053df9db95"
      },
      "execution_count": 31,
      "outputs": [
        {
          "output_type": "stream",
          "name": "stdout",
          "text": [
            "Entre com a área a ser pintada: 520\n",
            "108 21.6\n",
            "Somente com latas, são necessária(s) 6 latas, ao custo de R$ 480.00\n",
            "Somente com galões, são necessário(s) 27 galões, ao custo de R$ 675.00\n",
            "Para menor desperdício de tinta, são necessários 2 galão(oes) e 5 lata(s), ao custo de R$ 450.00\n"
          ]
        }
      ]
    },
    {
      "cell_type": "markdown",
      "source": [
        "6. Um posto está vendendo combustíveis com a seguinte tabela de descontos:\n",
        "- Álcool:\n",
        " - até 20 litros, desconto de 3% por litro\n",
        " - acima de 20 litros, desconto de 5% por litro\n",
        "- Gasolina:\n",
        " - até 20 litros, desconto de 4% por litro\n",
        " - acima de 20 litros, desconto de 6% por litro\n",
        "\n",
        " Escreva um algoritmo que leia o número de litros vendidos, o tipo de combustível (codificado da seguinte forma: A-álcool, G-gasolina), calcule e imprima o valor a ser pago pelo cliente sabendo-se que o preço do litro da gasolina é 2.50 o preço do litro do álcool é 1,90."
      ],
      "metadata": {
        "id": "2DZ0RMhjYOuQ"
      }
    },
    {
      "cell_type": "code",
      "source": [
        "litros_vendidos = float(input(\"Entre com a quantidade de litros vendida: \"))\n",
        "comb = input(\"Entre com o tipo de combustível: \")\n",
        "if (comb == 'A') or (comb == 'a'):\n",
        "  if litros_vendidos <= 20:\n",
        "    print(f\"São R$ {litros_vendidos * 1.9 * 0.97:.2f} de alcool\")\n",
        "  else:\n",
        "    print(f\"São R$ {litros_vendidos * 1.9 * 0.95:.2f} de alcool\")\n",
        "elif (comb == 'G') or (comb == 'g'):\n",
        "  if litros_vendidos <= 20:\n",
        "    print(f\"São R$ {litros_vendidos * 2.5 * 0.94:.2f} de gasolina\")\n",
        "  else:\n",
        "    print(f\"São R$ {litros_vendidos * 2.5 * 0.96:.2f} de gasolina\")\n",
        "else:\n",
        "  print(\"Tipo de combustível inválido!\")"
      ],
      "metadata": {
        "colab": {
          "base_uri": "https://localhost:8080/"
        },
        "id": "JIJfVSmVYgmG",
        "outputId": "d3de9edb-c3f0-4a3d-db58-97a6bdccf766"
      },
      "execution_count": 39,
      "outputs": [
        {
          "output_type": "stream",
          "name": "stdout",
          "text": [
            "Entre com a quantidade de litros vendida: 18\n",
            "Entre com o tipo de combustível: g\n",
            "São R$ 42.30 de gasolina\n"
          ]
        }
      ]
    },
    {
      "cell_type": "markdown",
      "source": [
        "7. Faça um Programa que leia 2 números e em seguida pergunte ao usuário qual operação ele deseja realizar. O resultado da operação deve ser acompanhado de uma frase que diga se o número é:\n",
        "- par ou ímpar;\n",
        "- positivo ou negativo;\n",
        "- inteiro ou decimal."
      ],
      "metadata": {
        "id": "Qf0dUXG3bYnZ"
      }
    },
    {
      "cell_type": "code",
      "source": [
        "def operando (op):\n",
        "  print(f\"O resultado da operação é: {op:.2f}\")\n",
        "  if (op % 2 == 0):\n",
        "    print(\"É par\")\n",
        "  else:\n",
        "    print(\"É impar\")\n",
        "  if (op < 0):\n",
        "    print(\"É um numero negativo\")\n",
        "  else:\n",
        "    print(\"É um numero positivo\")\n",
        "  if ((op % 2 == 0) or (op % 2 == 1)):\n",
        "    print(\"É inteiro\")\n",
        "  else:\n",
        "    print(\"É decimal\")\n",
        "\n",
        "num_1 = float(input(\"Entre com o numero 1: \"))\n",
        "num_2 = float(input(\"Entre com o numero 2: \"))\n",
        "operacao = input(\"Entre com a operação que deseja realizar: (+ , -, *, /) ]\")\n",
        "op = 0\n",
        "if operacao == \"+\":\n",
        "  op = num_1 + num_2\n",
        "  operando(op)\n",
        "elif operacao == \"-\":\n",
        "  op = num_1 - num_2\n",
        "  operando(op)\n",
        "elif operacao == \"*\":\n",
        "  op = num_1 * num_2\n",
        "  operando(op)\n",
        "elif operacao == \"/\":\n",
        "  op = num_1 / num_2\n",
        "  operando(op)\n",
        "else:\n",
        "  print(\"Operação inválida\")"
      ],
      "metadata": {
        "colab": {
          "base_uri": "https://localhost:8080/"
        },
        "id": "L85B7WrybepF",
        "outputId": "4c603030-9cdf-44b7-cc50-f5a013ce77c7"
      },
      "execution_count": 49,
      "outputs": [
        {
          "output_type": "stream",
          "name": "stdout",
          "text": [
            "Entre com o numero 1: 10\n",
            "Entre com o numero 2: 6\n",
            "Entre com a operação que deseja realizar: (+ , -, *, /) ]/\n",
            "O resultado da operação é: 1.67\n",
            "É impar\n",
            "É um numero positivo\n",
            "É decimal\n"
          ]
        }
      ]
    }
  ]
}