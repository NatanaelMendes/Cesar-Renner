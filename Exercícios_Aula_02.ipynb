{
  "nbformat": 4,
  "nbformat_minor": 0,
  "metadata": {
    "colab": {
      "name": "Exercícios Aula 02.ipynb",
      "provenance": []
    },
    "kernelspec": {
      "name": "python3",
      "display_name": "Python 3"
    },
    "language_info": {
      "name": "python"
    }
  },
  "cells": [
    {
      "cell_type": "markdown",
      "source": [
        "1. Verifique se as igualdades abaixo são verdadeiras:\n",
        "- 2 x 3 = 5\n",
        "- 2 x 2.0 = 4\n",
        "- a + 3 = b, para a=3 e b=15"
      ],
      "metadata": {
        "id": "2TrZtWSkIhDm"
      }
    },
    {
      "cell_type": "code",
      "execution_count": 2,
      "metadata": {
        "colab": {
          "base_uri": "https://localhost:8080/"
        },
        "id": "-ws9feNoH_wz",
        "outputId": "c884e2c3-40b0-43b4-c9a8-bb6837ca37e0"
      },
      "outputs": [
        {
          "output_type": "stream",
          "name": "stdout",
          "text": [
            "False\n",
            "True\n",
            "False\n"
          ]
        }
      ],
      "source": [
        "print(2 * 3 == 5)\n",
        "print(2 * 2.0 == 4)\n",
        "a , b = 3, 15\n",
        "print(a + 3 == b)"
      ]
    },
    {
      "cell_type": "markdown",
      "source": [
        "2. Faça um programa que calcule as raízes de uma equação do segundo grau, na forma ax² + bx + c. O programa deverá pedir os valores de a, b e c e fazer as consistências, informando ao usuário nas seguintes situações:\n",
        "\n",
        "- Se o usuário informar o valor de A igual a zero, a equação não é do segundo grau e o programa não deve pedir os demais valores, sendo encerrado;\n",
        "- Se o delta calculado for negativo, a equação não possui raizes reais. Informe ao usuário e encerre o programa;\n",
        "- Se o delta calculado for igual a zero a equação possui apenas uma raiz real; informe-a ao usuário;\n",
        "- Se o delta for positivo, a equação possui duas raiz reais; informe-as ao usuário;"
      ],
      "metadata": {
        "id": "VQxCxTUbJJ07"
      }
    },
    {
      "cell_type": "code",
      "source": [
        "a = float(input(\"Entre com o valor de a: \"))\n",
        "b = float(input(\"Entre com o valor de b: \"))\n",
        "c = float(input(\"Entre com o valor de c: \"))\n",
        "deltinha = (b*b) - (4 * a * c)\n",
        "if a == 0:\n",
        "  print(\"Não é uma equação de segundo grau!\")\n",
        "else:\n",
        "  if deltinha == 0:\n",
        "    print(f\"Somente uma raiz real cujo valor é: {-b/2*a}\")\n",
        "  elif deltinha > 0:\n",
        "    print(f\"A raiz 1 é: {(-b + deltinha**0.5)/2*a:.2f}\")\n",
        "    print(f\"A raiz 2 é: {(-b - deltinha**0.5)/2*a:.2f}\")\n",
        "  else:\n",
        "    print(\"Não tem raiz real\")"
      ],
      "metadata": {
        "colab": {
          "base_uri": "https://localhost:8080/"
        },
        "id": "SwltSOsxJOK_",
        "outputId": "47cdf2fb-552b-4954-846a-c73a9e75b418"
      },
      "execution_count": 7,
      "outputs": [
        {
          "output_type": "stream",
          "name": "stdout",
          "text": [
            "Entre com o valor de a: 2\n",
            "Entre com o valor de b: 5\n",
            "Entre com o valor de c: -9\n",
            "A raiz 1 é: 4.85\n",
            "A raiz 2 é: -14.85\n"
          ]
        }
      ]
    },
    {
      "cell_type": "markdown",
      "source": [
        "3. Faça um Programa que peça um número correspondente a um determinado ano e em seguida informe se este ano é ou não bissexto."
      ],
      "metadata": {
        "id": "NCd6lPTKLNvm"
      }
    },
    {
      "cell_type": "code",
      "source": [
        "ano_entrada = int(input(\"Entre com o ano: \"))\n",
        "if (ano_entrada % 4 == 2):\n",
        "  print(\"É bissexto\")\n",
        "else:\n",
        "  print(\"Não é bissexto\")"
      ],
      "metadata": {
        "colab": {
          "base_uri": "https://localhost:8080/"
        },
        "id": "nPlGW3cOLPoa",
        "outputId": "4935567f-f381-47bb-c49e-02698aebf4dd"
      },
      "execution_count": 9,
      "outputs": [
        {
          "output_type": "stream",
          "name": "stdout",
          "text": [
            "Entre com o ano: 2022\n",
            "É bissexto\n"
          ]
        }
      ]
    },
    {
      "cell_type": "markdown",
      "source": [
        "4. Faça um Programa que peça uma data no formato dd/mm/aaaa e determine se a mesma é uma data válida."
      ],
      "metadata": {
        "id": "cc_bPMZrLvO_"
      }
    },
    {
      "cell_type": "code",
      "source": [
        "data_completa = input(\"Entre com a data, incluindo as barras, no formato dd/mm/aaaa: \")\n",
        "dia = data_completa[:2]\n",
        "mes = data_completa[3:5]\n",
        "ano = data_completa[6:]\n",
        "dia = int(dia)\n",
        "mes = int(mes)\n",
        "ano = int(ano)\n",
        "if mes > 12 or dia > 31:\n",
        "  print(\"Não é uma data válida!\")\n",
        "else:\n",
        "  if (mes == 2 and dia > 28):\n",
        "    print(\"Não é uma data válida!\")\n",
        "  else:\n",
        "    if (mes == 4 or mes == 6 or mes == 9 or mes == 11) and dia > 30:\n",
        "      print(\"Não é uma data válida!\")\n",
        "    else:\n",
        "      print(\"É uma data válida\")\n",
        "  "
      ],
      "metadata": {
        "colab": {
          "base_uri": "https://localhost:8080/"
        },
        "id": "op8daFkcLymW",
        "outputId": "5da1a5bc-80e1-48eb-ed2f-6676ac408837"
      },
      "execution_count": 26,
      "outputs": [
        {
          "output_type": "stream",
          "name": "stdout",
          "text": [
            "Entre com a data, incluindo as barras, no formato dd/mm/aaaa: 15/03/1990\n",
            "É data válida\n"
          ]
        }
      ]
    },
    {
      "cell_type": "markdown",
      "source": [
        "5. Faça um Programa que leia um número e exiba o dia correspondente da semana. (1-Domingo, 2- Segunda, etc.), se digitar outro valor deve aparecer valor inválido."
      ],
      "metadata": {
        "id": "Jz5cdkv5RrC_"
      }
    },
    {
      "cell_type": "code",
      "source": [
        "numero = int(input(\"Entre com o numero: \"))\n",
        "if numero > 7 or numero < 1:\n",
        "  print(\"Valor inválido!\")\n",
        "else:\n",
        "  if numero == 1:\n",
        "    print(\"Domingo\")\n",
        "  elif numero == 2:\n",
        "    print(\"Segunda\")\n",
        "  elif numero == 3:\n",
        "    print(\"Terça\")\n",
        "  elif numero == 4:\n",
        "    print(\"Quarta\")\n",
        "  elif numero == 5:\n",
        "    print(\"Quinta\")\n",
        "  elif numero == 6:\n",
        "    print(\"Sexta\")\n",
        "  elif numero == 7:\n",
        "    print(\"Sabado\")"
      ],
      "metadata": {
        "colab": {
          "base_uri": "https://localhost:8080/"
        },
        "id": "KfIUTIuhRsGw",
        "outputId": "07eda36e-163e-468d-d86a-920a5cff1a2c"
      },
      "execution_count": 28,
      "outputs": [
        {
          "output_type": "stream",
          "name": "stdout",
          "text": [
            "Entre com o numero: 8\n",
            "Valor inválido!\n"
          ]
        }
      ]
    }
  ]
}