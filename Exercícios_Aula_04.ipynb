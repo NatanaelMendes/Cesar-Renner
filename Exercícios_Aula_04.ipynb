{
  "nbformat": 4,
  "nbformat_minor": 0,
  "metadata": {
    "colab": {
      "name": "Exercícios Aula 04.ipynb",
      "provenance": []
    },
    "kernelspec": {
      "name": "python3",
      "display_name": "Python 3"
    },
    "language_info": {
      "name": "python"
    }
  },
  "cells": [
    {
      "cell_type": "markdown",
      "source": [
        "1. Crie uma função que recebe um valor inteiro e avalie se ele é positivo ou negativo. Em caso negativo a função deve imprimir \"Erro\", em caso positivo a função deve multiplicar o numero por 5 e retorna-lo."
      ],
      "metadata": {
        "id": "_KKRp9wnTPAr"
      }
    },
    {
      "cell_type": "code",
      "execution_count": 3,
      "metadata": {
        "colab": {
          "base_uri": "https://localhost:8080/"
        },
        "id": "8zMG7f79TJO5",
        "outputId": "fa304247-2e74-4a72-e609-b04db2467848"
      },
      "outputs": [
        {
          "output_type": "stream",
          "name": "stdout",
          "text": [
            "Entre com o numero: -2\n",
            "Erro\n"
          ]
        }
      ],
      "source": [
        "def verifica(num):\n",
        "  if num < 0:\n",
        "    return \"Erro\"\n",
        "  else:\n",
        "    return num * 5\n",
        "num = int(input(\"Entre com o numero: \"))\n",
        "print(verifica(num))\n"
      ]
    },
    {
      "cell_type": "markdown",
      "source": [
        "2. Crie uma função que receba uma lista de números inteiros e exiba todos os valores multiplicados por um valor inserido pelo usuário."
      ],
      "metadata": {
        "id": "b_Id_27KUHgW"
      }
    },
    {
      "cell_type": "code",
      "source": [
        "def mult(lista, n):\n",
        "  for numero in lista:\n",
        "    print(numero * n)\n",
        "n = int(input(\"Entre com o numero: \"))\n",
        "lista = [1, 2, 3, 4, 5]\n",
        "mult(lista, n)\n"
      ],
      "metadata": {
        "colab": {
          "base_uri": "https://localhost:8080/"
        },
        "id": "xexZXNrtTRxa",
        "outputId": "3c79f3ad-097f-4f02-bc86-29d5446e0ad4"
      },
      "execution_count": 5,
      "outputs": [
        {
          "output_type": "stream",
          "name": "stdout",
          "text": [
            "Entre com o numero: 5\n",
            "5\n",
            "10\n",
            "15\n",
            "20\n",
            "25\n"
          ]
        }
      ]
    },
    {
      "cell_type": "markdown",
      "source": [
        "3. Faça o exercicio 2 usando map e lambda"
      ],
      "metadata": {
        "id": "yn2eBpjQVCJd"
      }
    },
    {
      "cell_type": "code",
      "source": [
        "print(list(map(lambda x: x*5, lista)))"
      ],
      "metadata": {
        "colab": {
          "base_uri": "https://localhost:8080/"
        },
        "id": "xpPZe2A-VEaQ",
        "outputId": "80c8bccb-acd5-4604-97ba-5ff5bcc95c90"
      },
      "execution_count": 8,
      "outputs": [
        {
          "output_type": "stream",
          "name": "stdout",
          "text": [
            "[5, 10, 15, 20, 25]\n"
          ]
        }
      ]
    },
    {
      "cell_type": "markdown",
      "source": [
        "4. Crie um programa que receba do usuário 5 números inteiros e os exiba na tela na ordem contrária ao que foi inserido. A leitura dos números deve ser feita em uma função e a exibição dos valores em ordem contrária deve ocorrer em outra função."
      ],
      "metadata": {
        "id": "vBby7s7RVG48"
      }
    },
    {
      "cell_type": "code",
      "source": [
        "def receba():\n",
        "  numerais = []\n",
        "  for i in range(5):\n",
        "    numerais.append(int(input(f\"Entre com o numero {i+1}: \")))\n",
        "  return numerais\n",
        "\n",
        "def imprima(numerais):\n",
        "  print(numerais[::-1])\n",
        "\n",
        "numerais = receba()\n",
        "imprima(numerais)\n",
        "\n"
      ],
      "metadata": {
        "colab": {
          "base_uri": "https://localhost:8080/"
        },
        "id": "i1JsaMqrVJRK",
        "outputId": "94fe90c7-0430-4484-935f-90c44416f31f"
      },
      "execution_count": 16,
      "outputs": [
        {
          "output_type": "stream",
          "name": "stdout",
          "text": [
            "Entre com o numero 1: 1\n",
            "Entre com o numero 2: 2\n",
            "Entre com o numero 3: 3\n",
            "Entre com o numero 4: 4\n",
            "Entre com o numero 5: 5\n",
            "[5, 4, 3, 2, 1]\n"
          ]
        }
      ]
    },
    {
      "cell_type": "markdown",
      "source": [
        "5. Crie um programa que pede ao usuário para insirir um nome. Passe esse nome para uma função que deve retornar se esse nome existe ou não na lista de nomes convidados = [\"Eduardo\", \"Ivan\", \"Paloma\", \"Andrea\"].\n",
        "Letras maiusculas ou minusculas não devem importar, se o usuario digitar \"eduardo\" a função deve retornar que o nome existe na lista."
      ],
      "metadata": {
        "id": "S3HG4FslVM36"
      }
    },
    {
      "cell_type": "code",
      "source": [
        "def verificaLista(convidados, nome):\n",
        "  nome = nome.upper()\n",
        "  achou = False\n",
        "  for name in convidados:\n",
        "    name = name.upper()\n",
        "    if name == nome:\n",
        "      achou = True\n",
        "  if achou:\n",
        "    print(\"Está na lista!\")\n",
        "  else:\n",
        "    print(\"Não está na lista\")\n",
        "convidados = [\"Eduardo\", \"Ivan\", \"Paloma\", \"Andrea\"]\n",
        "nome = input(\"Entre com o nome: \")\n",
        "verificaLista(convidados, nome)"
      ],
      "metadata": {
        "colab": {
          "base_uri": "https://localhost:8080/"
        },
        "id": "zPwzjYFXVNR6",
        "outputId": "45881035-f246-4e7c-d6e9-bbd66c71d1cd"
      },
      "execution_count": 7,
      "outputs": [
        {
          "output_type": "stream",
          "name": "stdout",
          "text": [
            "Entre com o nome: eduardo\n",
            "Está na lista!\n"
          ]
        }
      ]
    }
  ]
}