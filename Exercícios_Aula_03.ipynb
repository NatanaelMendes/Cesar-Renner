{
  "nbformat": 4,
  "nbformat_minor": 0,
  "metadata": {
    "colab": {
      "name": "Exercícios Aula 03.ipynb",
      "provenance": []
    },
    "kernelspec": {
      "name": "python3",
      "display_name": "Python 3"
    },
    "language_info": {
      "name": "python"
    }
  },
  "cells": [
    {
      "cell_type": "code",
      "execution_count": 1,
      "metadata": {
        "colab": {
          "base_uri": "https://localhost:8080/"
        },
        "id": "2QfOwp9F6NHg",
        "outputId": "57974a15-6633-482c-de18-ff747b919b5a"
      },
      "outputs": [
        {
          "output_type": "stream",
          "name": "stdout",
          "text": [
            "['Everton', 'Pedro', 'Cristina']\n",
            "['Everton', 'Andrea']\n",
            "['Pedro', 'Everton', 'Lucas', 'Eduardo']\n"
          ]
        }
      ],
      "source": [
        "convidados = [\"Eduardo\", \"Lucas\", \"Everton\", \"Pedro\", \"Cristina\", \"Andrea\"]\n",
        "#Do indice 2 até o 4\n",
        "print(convidados[2:5])\n",
        "\n",
        "#Do indice 2 até o final, pulando de 3 em 3\n",
        "print(convidados[2::3])\n",
        "\n",
        "#Do indice 3 até o começo\n",
        "print(convidados[3::-1])"
      ]
    },
    {
      "cell_type": "code",
      "source": [
        "# Receber notas de aluno, determinar a média e informar se foi aprovado\n",
        "notas = []\n",
        "for i in range(4):\n",
        "  notas.append(float(input(f\"Entre com a nota {i}: \")))\n",
        "media = sum(notas)/len(notas)\n",
        "print(f\"A média é: {media:.2f}\")\n",
        "if (media >= 7):\n",
        "  print(\"Aprovado\")\n",
        "else:\n",
        "  print(\"Reprovado\")"
      ],
      "metadata": {
        "colab": {
          "base_uri": "https://localhost:8080/"
        },
        "id": "gjjvrpw6_WuU",
        "outputId": "68322c9e-5981-4bb0-d7f0-20d0ce809493"
      },
      "execution_count": 6,
      "outputs": [
        {
          "output_type": "stream",
          "name": "stdout",
          "text": [
            "Entre com a nota 0: 8\n",
            "Entre com a nota 1: 7\n",
            "Entre com a nota 2: 6\n",
            "Entre com a nota 3: 2\n",
            "A média é: 5.75\n",
            "Reprovado\n"
          ]
        }
      ]
    },
    {
      "cell_type": "markdown",
      "source": [
        "1. Faça um programa que imprima na tela apenas os números ímpares entre 1 e 50."
      ],
      "metadata": {
        "id": "IBXMzHPwPGfr"
      }
    },
    {
      "cell_type": "code",
      "source": [
        "for i in range(50):\n",
        "  if (i % 2 == 1):\n",
        "    print(i)"
      ],
      "metadata": {
        "colab": {
          "base_uri": "https://localhost:8080/"
        },
        "id": "ddntgDF1I-6v",
        "outputId": "a0c6d1a5-62da-43f5-c1ef-0b910c53ec3d"
      },
      "execution_count": 8,
      "outputs": [
        {
          "output_type": "stream",
          "name": "stdout",
          "text": [
            "1\n",
            "3\n",
            "5\n",
            "7\n",
            "9\n",
            "11\n",
            "13\n",
            "15\n",
            "17\n",
            "19\n",
            "21\n",
            "23\n",
            "25\n",
            "27\n",
            "29\n",
            "31\n",
            "33\n",
            "35\n",
            "37\n",
            "39\n",
            "41\n",
            "43\n",
            "45\n",
            "47\n",
            "49\n"
          ]
        }
      ]
    },
    {
      "cell_type": "markdown",
      "source": [
        "2. Faça um programa que leia 5 números e informe o maior número."
      ],
      "metadata": {
        "id": "0KuGFai-PpIX"
      }
    },
    {
      "cell_type": "code",
      "source": [
        "maior = float(input(\"Entre com o numero: \"))\n",
        "for i in range(4):\n",
        "  aux = float(input(\"Entre com o numero: \"))\n",
        "  if maior < aux:\n",
        "    maior = aux\n",
        "print(f\"{maior:.2f}\")"
      ],
      "metadata": {
        "colab": {
          "base_uri": "https://localhost:8080/"
        },
        "id": "VK6HJrBqPr4G",
        "outputId": "c5dd49b6-7c3c-4c46-a094-ce6a94c0ed89"
      },
      "execution_count": 11,
      "outputs": [
        {
          "output_type": "stream",
          "name": "stdout",
          "text": [
            "Entre com o numero: 40\n",
            "Entre com o numero: 5\n",
            "Entre com o numero: 7\n",
            "Entre com o numero: 8\n",
            "Entre com o numero: 10\n",
            "40.00\n"
          ]
        }
      ]
    },
    {
      "cell_type": "markdown",
      "source": [
        "3. Escreva um programa que receba um numero n, e logo após, receba n itens populando uma lista. E imprima no final cada um desses itens na ordem oposta em que foram inseridos"
      ],
      "metadata": {
        "id": "gn_kXkmRQKW6"
      }
    },
    {
      "cell_type": "code",
      "source": [
        "n = int(input(\"Entre com a quantidade de numeros que vão ser inseridos: \"))\n",
        "lista = []\n",
        "for i in range(n):\n",
        "  lista.append(int(input(\"Entre com o número: \")))\n",
        "lista.reverse()\n",
        "for i in lista:\n",
        "  print(i)"
      ],
      "metadata": {
        "colab": {
          "base_uri": "https://localhost:8080/"
        },
        "id": "D5uXYk9yQSSu",
        "outputId": "a162f3b9-e63e-44a9-d87f-c370f327acbb"
      },
      "execution_count": 17,
      "outputs": [
        {
          "output_type": "stream",
          "name": "stdout",
          "text": [
            "Entre com a quantidade de numeros que vão ser inseridos: 5\n",
            "Entre com o número: 1\n",
            "Entre com o número: 2\n",
            "Entre com o número: 3\n",
            "Entre com o número: 4\n",
            "Entre com o número: 5\n",
            "5\n",
            "4\n",
            "3\n",
            "2\n",
            "1\n"
          ]
        }
      ]
    },
    {
      "cell_type": "markdown",
      "source": [
        "4. Faça um programa que recebe um número de 1 a 10 do usuário e imprime a tabuada de multiplicação desse número"
      ],
      "metadata": {
        "id": "4QlLQKx-TGJQ"
      }
    },
    {
      "cell_type": "code",
      "source": [
        "num = int(input(\"Entre com o número: \"))\n",
        "for i in range(11):\n",
        "  print(f\"{num} x {i} = {num*i}\")"
      ],
      "metadata": {
        "colab": {
          "base_uri": "https://localhost:8080/"
        },
        "id": "efNMli8hTYv2",
        "outputId": "a53f51fb-de16-4a14-fd8d-e13c03117384"
      },
      "execution_count": 19,
      "outputs": [
        {
          "output_type": "stream",
          "name": "stdout",
          "text": [
            "Entre com o número: 9\n",
            "9 x 0 = 0\n",
            "9 x 1 = 9\n",
            "9 x 2 = 18\n",
            "9 x 3 = 27\n",
            "9 x 4 = 36\n",
            "9 x 5 = 45\n",
            "9 x 6 = 54\n",
            "9 x 7 = 63\n",
            "9 x 8 = 72\n",
            "9 x 9 = 81\n",
            "9 x 10 = 90\n"
          ]
        }
      ]
    },
    {
      "cell_type": "markdown",
      "source": [
        "5. Imagine que você tem um problema no qual precisa somar todos os números\n",
        "múltiplos de 3 até 1000, ou até a soma ultrapassar 300. Se caso o número\n",
        "seja múltiplo de 3 deve ser exibido \"Buscando...\". Mas caso o número seja\n",
        "múltiplo de 5, nada deve ser exibido."
      ],
      "metadata": {
        "id": "H98BBPSnT48Z"
      }
    },
    {
      "cell_type": "code",
      "source": [
        "soma = 0\n",
        "aux = 3\n",
        "while (soma <= 300) and (aux <= 1000):\n",
        "  if aux % 3 == 0:\n",
        "    soma += aux\n",
        "    if aux % 5 == 0:\n",
        "      aux += 1\n",
        "      continue\n",
        "    else:\n",
        "      print(\"Buscando\")\n",
        "  aux += 1"
      ],
      "metadata": {
        "colab": {
          "base_uri": "https://localhost:8080/"
        },
        "id": "_fhuVOjmT-sp",
        "outputId": "b91d7518-d547-4817-d0bd-d9f98217e719"
      },
      "execution_count": 30,
      "outputs": [
        {
          "output_type": "stream",
          "name": "stdout",
          "text": [
            "numero 3\n",
            "soma 3\n",
            "Buscando\n",
            "numero 3\n",
            "numero 4\n",
            "numero 5\n",
            "numero 6\n",
            "soma 9\n",
            "Buscando\n",
            "numero 6\n",
            "numero 7\n",
            "numero 8\n",
            "numero 9\n",
            "soma 18\n",
            "Buscando\n",
            "numero 9\n",
            "numero 10\n",
            "numero 11\n",
            "numero 12\n",
            "soma 30\n",
            "Buscando\n",
            "numero 12\n",
            "numero 13\n",
            "numero 14\n",
            "numero 15\n",
            "soma 45\n",
            "numero 16\n",
            "numero 17\n",
            "numero 18\n",
            "soma 63\n",
            "Buscando\n",
            "numero 18\n",
            "numero 19\n",
            "numero 20\n",
            "numero 21\n",
            "soma 84\n",
            "Buscando\n",
            "numero 21\n",
            "numero 22\n",
            "numero 23\n",
            "numero 24\n",
            "soma 108\n",
            "Buscando\n",
            "numero 24\n",
            "numero 25\n",
            "numero 26\n",
            "numero 27\n",
            "soma 135\n",
            "Buscando\n",
            "numero 27\n",
            "numero 28\n",
            "numero 29\n",
            "numero 30\n",
            "soma 165\n",
            "numero 31\n",
            "numero 32\n",
            "numero 33\n",
            "soma 198\n",
            "Buscando\n",
            "numero 33\n",
            "numero 34\n",
            "numero 35\n",
            "numero 36\n",
            "soma 234\n",
            "Buscando\n",
            "numero 36\n",
            "numero 37\n",
            "numero 38\n",
            "numero 39\n",
            "soma 273\n",
            "Buscando\n",
            "numero 39\n",
            "numero 40\n",
            "numero 41\n",
            "numero 42\n",
            "soma 315\n",
            "Buscando\n",
            "numero 42\n"
          ]
        }
      ]
    }
  ]
}