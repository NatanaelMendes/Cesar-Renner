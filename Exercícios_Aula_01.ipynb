{
  "nbformat": 4,
  "nbformat_minor": 0,
  "metadata": {
    "colab": {
      "name": "Exercícios Aula 01.ipynb",
      "provenance": []
    },
    "kernelspec": {
      "name": "python3",
      "display_name": "Python 3"
    },
    "language_info": {
      "name": "python"
    }
  },
  "cells": [
    {
      "cell_type": "markdown",
      "source": [
        "1. Faça um programa que mostre a mensagem \"\" na tela"
      ],
      "metadata": {
        "id": "UfNBX498HQKA"
      }
    },
    {
      "cell_type": "code",
      "execution_count": 1,
      "metadata": {
        "colab": {
          "base_uri": "https://localhost:8080/"
        },
        "id": "Ydx5f0bfDNC9",
        "outputId": "95ae8de9-1e35-4281-b3f1-961b810f2916"
      },
      "outputs": [
        {
          "output_type": "stream",
          "name": "stdout",
          "text": [
            "\"\"\n"
          ]
        }
      ],
      "source": [
        "print('\"\"')"
      ]
    },
    {
      "cell_type": "markdown",
      "source": [
        "2. Faça um programa que peça um número e então mostre a mensagem O número informado foi [número]."
      ],
      "metadata": {
        "id": "6u5YvW39HUP_"
      }
    },
    {
      "cell_type": "code",
      "source": [
        "num = int(input(\"Entre com o número: \"))\n",
        "print(f\"O numero digitado é: {num}\")"
      ],
      "metadata": {
        "colab": {
          "base_uri": "https://localhost:8080/"
        },
        "id": "vQmtO2QmDSGb",
        "outputId": "79e13355-7ae2-4bb8-e029-c2ec9c44fc39"
      },
      "execution_count": 2,
      "outputs": [
        {
          "output_type": "stream",
          "name": "stdout",
          "text": [
            "Entre com o número: 8\n",
            "O numero digitado é: 8\n"
          ]
        }
      ]
    },
    {
      "cell_type": "markdown",
      "source": [
        "3. Faça um programa que peça dois números e imprima a soma"
      ],
      "metadata": {
        "id": "5oU50RUIHXIT"
      }
    },
    {
      "cell_type": "code",
      "source": [
        "num_1 = int(input(\"Entre com o número 1: \"))\n",
        "num_2 = int(input(\"Entre com o número 2: \"))\n",
        "print(\"A soma é: \", num_1 + num_2)"
      ],
      "metadata": {
        "colab": {
          "base_uri": "https://localhost:8080/"
        },
        "id": "FxMm7CwrDVbB",
        "outputId": "33cfa516-2bf3-433b-c6da-ac786aa173c9"
      },
      "execution_count": 3,
      "outputs": [
        {
          "output_type": "stream",
          "name": "stdout",
          "text": [
            "Entre com o número 1: 8\n",
            "Entre com o número 2: 7\n",
            "A soma é:  15\n"
          ]
        }
      ]
    },
    {
      "cell_type": "markdown",
      "source": [
        "4. Faça um programa que peça as 4 notas bimestrais e mostre a média."
      ],
      "metadata": {
        "id": "KsWje6uEHZW0"
      }
    },
    {
      "cell_type": "code",
      "source": [
        "nota1 = float(input(\"Entre com a nota 1: \"))\n",
        "nota2 = float(input(\"Entre com a nota 2: \"))\n",
        "nota3 = float(input(\"Entre com a nota 3: \"))\n",
        "nota4 = float(input(\"Entre com a nota 4: \"))\n",
        "media = (nota1 + nota2 + nota3 + nota4)/4\n",
        "print(f\"A média é: {media}\")"
      ],
      "metadata": {
        "colab": {
          "base_uri": "https://localhost:8080/"
        },
        "id": "8cl0HVkRDYqh",
        "outputId": "807d8234-fc03-492a-ebc4-ff21dffecf48"
      },
      "execution_count": 4,
      "outputs": [
        {
          "output_type": "stream",
          "name": "stdout",
          "text": [
            "Entre com a nota 1: 8\n",
            "Entre com a nota 2: 8\n",
            "Entre com a nota 3: 8\n",
            "Entre com a nota 4: 8\n",
            "A média é: 8.0\n"
          ]
        }
      ]
    },
    {
      "cell_type": "markdown",
      "source": [
        "5. Faça um programa que converta metros para centímetros."
      ],
      "metadata": {
        "id": "9hIAzNYkHd5v"
      }
    },
    {
      "cell_type": "code",
      "source": [
        "entrada_metros = float(input(\"Entre com a medida em metros: \"))\n",
        "print(\"Essa medida em centímetros é: \", entrada_metros * 100)"
      ],
      "metadata": {
        "colab": {
          "base_uri": "https://localhost:8080/"
        },
        "id": "svWZAd3BDeTd",
        "outputId": "7a40a9a0-62fb-41b6-ea4b-987ad2edd4f0"
      },
      "execution_count": 7,
      "outputs": [
        {
          "output_type": "stream",
          "name": "stdout",
          "text": [
            "Entre com a medida em metros: 8.5\n",
            "Essa medida em centímetros é:  850.0\n"
          ]
        }
      ]
    },
    {
      "cell_type": "markdown",
      "source": [
        "6. Faça um programa que peça o raio de um círculo, calcule e mostre sua área."
      ],
      "metadata": {
        "id": "AorALwtLHmbS"
      }
    },
    {
      "cell_type": "code",
      "source": [
        "area_circulo = float(input(\"Entre com o raio do círculo: \"))\n",
        "print(\"A área do círculo é: \", area_circulo * area_circulo * 3.14)"
      ],
      "metadata": {
        "colab": {
          "base_uri": "https://localhost:8080/"
        },
        "id": "WkP3HCmIDwov",
        "outputId": "a3c57444-4839-4e95-c249-e2f5bf570a2e"
      },
      "execution_count": 13,
      "outputs": [
        {
          "output_type": "stream",
          "name": "stdout",
          "text": [
            "Entre com o raio do círculo: 1\n",
            "A área do círculo é:  3.14\n"
          ]
        }
      ]
    },
    {
      "cell_type": "markdown",
      "source": [
        "7. Faça um programa que calcule a área de um quadrado, em seguida mostre o dobro desta área para o usuário."
      ],
      "metadata": {
        "id": "4-0rifHMHo6f"
      }
    },
    {
      "cell_type": "code",
      "source": [
        "lado_quadrado = float(input(\"Entre com o lado do quadrado: \"))\n",
        "print(f\"O dobro da área do quadrado de lado {lado_quadrado} é {lado_quadrado * lado_quadrado * 2}\")"
      ],
      "metadata": {
        "colab": {
          "base_uri": "https://localhost:8080/"
        },
        "id": "5mWoM47vEaZl",
        "outputId": "e480d9ac-ef0d-4f01-9b39-fce0b26da7a8"
      },
      "execution_count": 15,
      "outputs": [
        {
          "output_type": "stream",
          "name": "stdout",
          "text": [
            "Entre com o lado do quadrado: 2\n",
            "O dobro da área do quadrado de lado 2.0 é 8.0\n"
          ]
        }
      ]
    },
    {
      "cell_type": "markdown",
      "source": [
        "8. Faça um programa que pergunte quanto você ganha por hora e o número de horas trabalhadas no mês. Calcule e mostre o total do seu salário no referido mês."
      ],
      "metadata": {
        "id": "GVZpyUKCHrB7"
      }
    },
    {
      "cell_type": "code",
      "source": [
        "valor_hora = float(input(\"Entre com o valor da hora: \"))\n",
        "num_horas = float(input(\"Entre com o numero de horas trabalhadas: \"))\n",
        "print(f\"Esse mês você vai receber {valor_hora * num_horas:.2f}\")"
      ],
      "metadata": {
        "colab": {
          "base_uri": "https://localhost:8080/"
        },
        "id": "YETcbsq0FOy0",
        "outputId": "7b0458aa-d7e3-47b6-fce7-2d49238a04fd"
      },
      "execution_count": 16,
      "outputs": [
        {
          "output_type": "stream",
          "name": "stdout",
          "text": [
            "Entre com o valor da hora: 5\n",
            "Entre com o numero de horas trabalhadas: 100\n",
            "Esse mês você vai receber 500.00\n"
          ]
        }
      ]
    },
    {
      "cell_type": "markdown",
      "source": [
        "9.  Escreva um programa que substitui as ocorrencias de um caractere 0 em uma string por outro caractere 1."
      ],
      "metadata": {
        "id": "q5EQKRrMHuaG"
      }
    },
    {
      "cell_type": "code",
      "source": [
        "frase = input(\"Entre com a sequência: \")\n",
        "frase = frase.replace(\"0\", \"1\")\n",
        "print(frase)"
      ],
      "metadata": {
        "colab": {
          "base_uri": "https://localhost:8080/"
        },
        "id": "h3Rr_-cXF1mB",
        "outputId": "80f8d8de-79ab-4e1a-92d9-8bc2b10fe8da"
      },
      "execution_count": 23,
      "outputs": [
        {
          "output_type": "stream",
          "name": "stdout",
          "text": [
            "Entre com a sequência: 012201\n",
            "112211\n"
          ]
        }
      ]
    },
    {
      "cell_type": "markdown",
      "source": [
        "10. Faça um programa que receba do usuario uma string. O programa imprime a string sem suas vogais."
      ],
      "metadata": {
        "id": "9Dgy9dacHxpR"
      }
    },
    {
      "cell_type": "code",
      "source": [
        "frase_nova = input(\"Entre com a frase: \")\n",
        "frase_nova = frase_nova.replace(\"a\", \"\")\n",
        "frase_nova = frase_nova.replace(\"A\", \"\")\n",
        "frase_nova = frase_nova.replace(\"e\", \"\")\n",
        "frase_nova = frase_nova.replace(\"E\", \"\")\n",
        "frase_nova = frase_nova.replace(\"i\", \"\")\n",
        "frase_nova = frase_nova.replace(\"I\", \"\")\n",
        "frase_nova = frase_nova.replace(\"o\", \"\")\n",
        "frase_nova = frase_nova.replace(\"O\", \"\")\n",
        "frase_nova = frase_nova.replace(\"u\", \"\")\n",
        "frase_nova = frase_nova.replace(\"U\", \"\")\n",
        "print(frase_nova)"
      ],
      "metadata": {
        "colab": {
          "base_uri": "https://localhost:8080/"
        },
        "id": "u4GWofJoGa9c",
        "outputId": "3dd976e5-506b-4d95-ab83-9cf1b6e43447"
      },
      "execution_count": 25,
      "outputs": [
        {
          "output_type": "stream",
          "name": "stdout",
          "text": [
            "Entre com a frase: oiasijkndqksiadjoasouOASOd\n",
            "sjkndqksdjsSd\n"
          ]
        }
      ]
    }
  ]
}